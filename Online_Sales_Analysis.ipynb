{
 "cells": [
  {
   "cell_type": "markdown",
   "metadata": {},
   "source": [
    "# **Final Project: Data Analysis & Reporting of Online Sales**"
   ]
  },
  {
   "cell_type": "markdown",
   "metadata": {},
   "source": [
    "<hr>"
   ]
  },
  {
   "cell_type": "markdown",
   "metadata": {},
   "source": [
    "#### Import Statements"
   ]
  },
  {
   "cell_type": "code",
   "execution_count": 2,
   "metadata": {},
   "outputs": [],
   "source": [
    "import numpy as np\n",
    "import pandas as pd\n",
    "import matplotlib.pyplot as plt\n",
    "import seaborn as sns"
   ]
  },
  {
   "cell_type": "code",
   "execution_count": 3,
   "metadata": {},
   "outputs": [],
   "source": [
    "# Read 'final_data.csv' file into a DataFrame \n",
    "df = pd.read_csv('final_data.csv')"
   ]
  },
  {
   "cell_type": "markdown",
   "metadata": {},
   "source": [
    "## **Introduction/Motivation**\n",
    "\n",
    "This project is driven by the need to understand and analyze key trends in the online sales of electronics, home appliances, clothing, books, beauty products, and sports items. The goal is to address two core challenges: identifying top-selling products in each category and analyzing regional variations in their sales performance, and exploring customer purchasing patterns and payment preferences across regions. These insights are helpful for businesses aiming to optimize operations, marketing strategies, and customer experiences in a competitive market.\n",
    "\n",
    "### Research Questions \n",
    "\n",
    "1. `Which region generates the highest and lowest revenue?`\n",
    "2. `What is the most commonly used and least preferred payment method?`\n",
    "\n",
    "## **Data Collection**\n",
    "\n",
    "The dataset for this project was sourced from Kaggle and is titled \"Online Sales Dataset - Popular Marketplace Data\", uploaded by Shreyansh Verma, a data analyst intern at No Broker Hood in Bengaluru, Karnataka, India. The data appears to have been collected during his internship, likely reflecting real-world sales data from a popular marketplace.\n",
    "\n",
    "Although I did not collect the data myself, it was made available through Kaggle as part of Shreyansh Verma's professional work. The dataset includes detailed records of online sales, possibly gathered via web scraping, APIs, company partnerships, or public records during his role. It contains approximately 200 to 300 customer records over a specified timeframe, providing insights into customer transactions, product sales, and payment methods. \n",
    "\n",
    "### Link to the Online Sales Dataset:\n",
    "https://www.kaggle.com/datasets/shreyanshverma27/online-sales-dataset-popular-marketplace-data/data\n",
    "\n",
    "## **Data Description**\n",
    "\n",
    "There are 240 rows in this dataset. \n",
    "\n",
    "\n",
    "| Columns/Variables | Data Types | \n",
    "|----------|------------| \n",
    "| Transaction ID | Numerical|\n",
    "| Date| Date|\n",
    "| Product Category| String|\n",
    "| Product Name| String|\n",
    "| Units Sold| Numerical |\n",
    "| Unit Price| Numerical|\n",
    "| Total Revenue| Numerical|\n",
    "| Region| Categorical|\n",
    "| Payment Method| Categorical|\n"
   ]
  },
  {
   "cell_type": "code",
   "execution_count": null,
   "metadata": {},
   "outputs": [],
   "source": [
    "# Number of rows in the whole dataset\n",
    "df.shape[0]"
   ]
  },
  {
   "cell_type": "markdown",
   "metadata": {},
   "source": [
    "### Basic Statistics "
   ]
  },
  {
   "cell_type": "code",
   "execution_count": null,
   "metadata": {},
   "outputs": [],
   "source": [
    "df.describe().round(2)"
   ]
  },
  {
   "cell_type": "markdown",
   "metadata": {},
   "source": [
    "The basic statistics reveal important trends in the dataset. Each of the 240 transactions are captured with details on units sold, unit price, and total revenue. The average number of units sold per transaction is 2.16, with a standard deviation of 1.32, indicating modest variation in purchase sizes. Unit prices vary widely, with a mean of $236.40 but a maximum of $3,899.99, highlighting the presence of high-value items. Similarly, total revenues range significantly, from as low as $6.50 to $3,899.99, reflecting substantial differences in transaction values based on the combination of units sold and item price. This data shows the potential for segmenting sales trends by product price range and revenue generation."
   ]
  },
  {
   "cell_type": "markdown",
   "metadata": {},
   "source": [
    "## **Data Cleaning and Wrangling**\n",
    "\n",
    "Fortunately, the dataset was complete and well-structured, requiring no major adjustments during the data cleaning/wrangling phase. This allowed me to concentrate on verifying the data to ensure it was accurate and ready for analysis. I performed a thorough validation process to confirm the integrity of all data points, ensuring consistency throughout the dataset."
   ]
  },
  {
   "cell_type": "markdown",
   "metadata": {},
   "source": [
    "***Checks for missing (NaN) values in each column of the dataframe***"
   ]
  },
  {
   "cell_type": "code",
   "execution_count": null,
   "metadata": {},
   "outputs": [],
   "source": [
    "df.isna().any()"
   ]
  },
  {
   "cell_type": "markdown",
   "metadata": {},
   "source": [
    "***Checks whether all values in the 'Transaction ID' column are identical; if they are, it prints that they're identical, otherwise, it indicates that there are different values in the column.***"
   ]
  },
  {
   "cell_type": "code",
   "execution_count": null,
   "metadata": {},
   "outputs": [],
   "source": [
    "if df['Transaction ID'].nunique() == 1:\n",
    "    print(\"All values in 'Transaction ID' are identical\")\n",
    "else:\n",
    "    print(\"Column 'Transaction ID' has different values\") "
   ]
  },
  {
   "cell_type": "markdown",
   "metadata": {},
   "source": [
    "***Checks whether all values in the 'Date' column are identical; if they are, it prints that they're identical, otherwise, it indicates that there are different values in the column.***"
   ]
  },
  {
   "cell_type": "code",
   "execution_count": null,
   "metadata": {},
   "outputs": [],
   "source": [
    "if df['Date'].nunique() == 1:\n",
    "    print(\"All values in 'Date' are identical\")\n",
    "else:\n",
    "    print(\"Column 'Date' has different values\") "
   ]
  },
  {
   "cell_type": "markdown",
   "metadata": {},
   "source": [
    "***List each distinct 'Product Category' without duplicates***"
   ]
  },
  {
   "cell_type": "code",
   "execution_count": null,
   "metadata": {},
   "outputs": [],
   "source": [
    "df['Product Category'].unique()"
   ]
  },
  {
   "cell_type": "markdown",
   "metadata": {},
   "source": [
    "***Sorts the unique product names in the 'Product Name' column and prints each one*** (There are no inconsistencies in 'Product Name')"
   ]
  },
  {
   "cell_type": "code",
   "execution_count": null,
   "metadata": {},
   "outputs": [],
   "source": [
    "sorted_products = sorted(df['Product Name'].unique())\n",
    "for product in sorted_products:\n",
    "    print(product)"
   ]
  },
  {
   "cell_type": "markdown",
   "metadata": {},
   "source": [
    "#### ***Box Plot for 'Units Sold'***"
   ]
  },
  {
   "cell_type": "code",
   "execution_count": null,
   "metadata": {},
   "outputs": [],
   "source": [
    "plt.boxplot(df['Units Sold'])\n",
    "plt.title('Box Plot for Units Sold')\n",
    "plt.ylabel('Units Sold')\n",
    "plt.show()"
   ]
  },
  {
   "cell_type": "markdown",
   "metadata": {},
   "source": [
    "This box plot visualizes the distribution of the `Units Sold` data, showing the median, quartiles, minimum, maximum and potential outliers. \n",
    "\n",
    "- Minimum: 1\n",
    "- Maximum: 10\n",
    "- Median: 2\n",
    "- Lower Quartile: 1 \n",
    "- Upper Quartile: 3\n",
    "\n",
    "It is fine to have an outlier of 10 `Units Sold` which represents an extreme case, such as a sudden spike in sales due to a promotion, special event or even the holiday season. Looking at the data someone bought 10 pairs of Hanes ComfortSoft T-shirts. "
   ]
  },
  {
   "cell_type": "markdown",
   "metadata": {},
   "source": [
    "#### ***Box plot for 'Unit Price'***"
   ]
  },
  {
   "cell_type": "code",
   "execution_count": null,
   "metadata": {},
   "outputs": [],
   "source": [
    "plt.boxplot(df['Unit Price'])\n",
    "plt.title('Box Plot of Unit Price')\n",
    "plt.ylabel('Unit Price')\n",
    "plt.show()"
   ]
  },
  {
   "cell_type": "markdown",
   "metadata": {},
   "source": [
    "This box plot visualizes the distribution of the `Unit Price` data, showing the median, quartiles, minimum, maximum and potential outliers. \n",
    "\n",
    "- Minimum: 6.50\n",
    "- Maximum: 3899.99\n",
    "- Median: 89.99\n",
    "- Lower Quartile: 29.50\n",
    "- Upper Quartile: 249.99\n",
    "\n",
    "It is fine to have an outlier of $3,899.99 as the `Unit Price` which represents an extreme case, looking at the data someone purchased a Canon EOS R5 Camera which is very expensive."
   ]
  },
  {
   "cell_type": "markdown",
   "metadata": {},
   "source": [
    "#### ***Box plot for 'Total Revenue'***"
   ]
  },
  {
   "cell_type": "code",
   "execution_count": null,
   "metadata": {},
   "outputs": [],
   "source": [
    "plt.boxplot(df['Total Revenue'])\n",
    "plt.title('Box Plot of Total Revenue')\n",
    "plt.ylabel('Total Revenue')\n",
    "plt.show()"
   ]
  },
  {
   "cell_type": "markdown",
   "metadata": {},
   "source": [
    "This box plot visualizes the distribution of the `Total Revenue` data, showing the median, quartiles, minimum, maximum and potential outliers. \n",
    "\n",
    "- Minimum: 6.50\n",
    "- Maximum: 3899.99\n",
    "- Median: 179.97\n",
    "- Lower Quartile: 62.96\n",
    "- Upper Quartile: 399.22\n",
    "\n",
    "It is fine to have an outlier of $3,899.99 as the `Total Revenue` which represents an extreme case, looking at the data someone purchased a Canon EOS R5 Camera which is very expensive. \n",
    "The camera is the largest purchase in the dataset and generated the highest total revenue, which is quite intriguing and worth analyzing further."
   ]
  },
  {
   "cell_type": "markdown",
   "metadata": {},
   "source": [
    "***List each distinct 'Region' without duplicates***"
   ]
  },
  {
   "cell_type": "code",
   "execution_count": null,
   "metadata": {},
   "outputs": [],
   "source": [
    "df['Region'].unique()"
   ]
  },
  {
   "cell_type": "markdown",
   "metadata": {},
   "source": [
    "***List each distinct 'Payment Method' without duplicates***"
   ]
  },
  {
   "cell_type": "code",
   "execution_count": null,
   "metadata": {},
   "outputs": [],
   "source": [
    "df['Payment Method'].unique()"
   ]
  },
  {
   "cell_type": "markdown",
   "metadata": {},
   "source": [
    "##### Overall, my dataset of Online Sales appears to be consistent, with no noticeable discrepancies or issues. The data is clean and reliable, ensuring that any insights gathered from it will be accurate and meaningful."
   ]
  },
  {
   "cell_type": "markdown",
   "metadata": {},
   "source": [
    "<hr>"
   ]
  },
  {
   "cell_type": "markdown",
   "metadata": {},
   "source": [
    "# **Data Analysis**"
   ]
  },
  {
   "cell_type": "code",
   "execution_count": null,
   "metadata": {},
   "outputs": [],
   "source": [
    "#First 5 rows of the dataframe\n",
    "df.head(5)"
   ]
  },
  {
   "cell_type": "code",
   "execution_count": null,
   "metadata": {},
   "outputs": [],
   "source": [
    "#Last 5 rows of the dataframe\n",
    "df.tail(5)"
   ]
  },
  {
   "cell_type": "markdown",
   "metadata": {},
   "source": [
    "<hr>"
   ]
  },
  {
   "cell_type": "markdown",
   "metadata": {},
   "source": [
    "#### `Research Question #1: Which region has to most and least total revenue?`"
   ]
  },
  {
   "cell_type": "code",
   "execution_count": null,
   "metadata": {},
   "outputs": [],
   "source": [
    "def mostRevenuePerRegion(df):\n",
    "  df = df.groupby('Region')['Total Revenue'].sum().reset_index()\n",
    "  df = df.sort_values(by='Total Revenue', ascending=False)\n",
    "  return df.reset_index(drop=True)\n",
    "\n",
    "mostRevenuePerRegion(df)"
   ]
  },
  {
   "cell_type": "markdown",
   "metadata": {},
   "source": [
    "#### `RQ #1: Data Visualization`"
   ]
  },
  {
   "cell_type": "code",
   "execution_count": null,
   "metadata": {},
   "outputs": [],
   "source": [
    "def mostRevenuePerRegion(df):\n",
    "    data = df.groupby('Region')['Total Revenue'].sum().reset_index()\n",
    "    data = data.sort_values(by='Total Revenue', ascending=False)\n",
    "\n",
    "    # Bar Plot\n",
    "    plt.figure(figsize=(15, 6))\n",
    "    sns.barplot(data=data, x='Region', y='Total Revenue', palette='cubehelix', edgecolor=\"black\")\n",
    "    plt.title('Total Revenue per Region', fontsize=20)\n",
    "    plt.xlabel('Region', fontsize=16)\n",
    "    plt.ylabel('Total Revenue', fontsize=16)\n",
    "    \n",
    "    plt.show()\n",
    "\n",
    "mostRevenuePerRegion(df)"
   ]
  },
  {
   "cell_type": "markdown",
   "metadata": {},
   "source": [
    "#### `RQ #1: Data Visualization Conclusion`\n",
    "This bar plot visualization helps answer my research question by showing the total revenue generated by each region, making it easy to identify which region contributes the most and the least. The bar plot's clear comparison allows for quick visual assessment of differences in revenue, highlighting any regional disparities. By ranking the regions based on total revenue, it also facilitates data-driven decision-making, such as where to allocate resources or focus marketing efforts. The use of a sorted bar plot ensures that the highest revenue-generating region stands out, emphasizing its importance."
   ]
  },
  {
   "cell_type": "markdown",
   "metadata": {},
   "source": [
    "<hr>"
   ]
  },
  {
   "cell_type": "markdown",
   "metadata": {},
   "source": [
    "#### `Research Question #2: What payment method is used the most and least?`"
   ]
  },
  {
   "cell_type": "code",
   "execution_count": null,
   "metadata": {},
   "outputs": [],
   "source": [
    "def paymentMethod(df):\n",
    "  df = df['Payment Method'].value_counts().reset_index()\n",
    "  return df\n",
    "\n",
    "paymentMethod(df)"
   ]
  },
  {
   "cell_type": "markdown",
   "metadata": {},
   "source": [
    "#### `RQ #2: Data Visualization`"
   ]
  },
  {
   "cell_type": "code",
   "execution_count": null,
   "metadata": {},
   "outputs": [],
   "source": [
    "def paymentMethod(df):\n",
    "    data = df['Payment Method'].value_counts()\n",
    "\n",
    "    # Pie Chart\n",
    "    plt.figure(figsize=(15, 6))\n",
    "    plt.pie(data, labels=data.index, autopct='%1.2f%%', startangle=90, colors=['darkorange', 'deepskyblue', 'violet'])\n",
    "    plt.title('Breakdown of Payment Methods', fontsize=20)\n",
    "    plt.axis('equal')\n",
    "    \n",
    "    plt.show()\n",
    "\n",
    "paymentMethod(df)"
   ]
  },
  {
   "cell_type": "markdown",
   "metadata": {},
   "source": [
    "#### `RQ #2: Data Visualization Conclusion`\n",
    "This pie chart visualization is helpful in answering my research question as it provides a clear visual representation of the distribution of payment methods. The size of each segment reflects the proportion of each payment method, making it easy to identify the most and least used methods at a glance. For example, significant differences in the size of the segments can indicate a preference for certain methods over others, which may be influenced by factors such as accessibility, convenience, or demographic trends. If one method dominates the chart, it may suggest disparities in availability or acceptance of alternative methods. Additionally, the under representation of some methods might highlight barriers, such as lack of access to technology (e.g., for digital payments) or socioeconomic factors affecting users' choices.\n"
   ]
  },
  {
   "cell_type": "markdown",
   "metadata": {},
   "source": [
    "<hr>"
   ]
  },
  {
   "cell_type": "markdown",
   "metadata": {},
   "source": [
    "# **Final Conclusion**\n",
    "\n",
    "By doing further examination of my research questions these insights can help businesses aim to optimize their sales and payment strategies. Companies could focus their marketing and inventory efforts on high-revenue regions while exploring under-performing areas. Also, understanding customer preferences for payment methods can help refine checkout processes and introduce incentives for less-used methods to diversify payment options. Overall, the analysis highlights the importance of data-driven decision-making in identifying revenue patterns and customer behaviors, offering a foundation for strategic improvements in online retail."
   ]
  }
 ],
 "metadata": {
  "kernelspec": {
   "display_name": "base",
   "language": "python",
   "name": "python3"
  },
  "language_info": {
   "codemirror_mode": {
    "name": "ipython",
    "version": 3
   },
   "file_extension": ".py",
   "mimetype": "text/x-python",
   "name": "python",
   "nbconvert_exporter": "python",
   "pygments_lexer": "ipython3",
   "version": "3.12.4"
  }
 },
 "nbformat": 4,
 "nbformat_minor": 2
}
